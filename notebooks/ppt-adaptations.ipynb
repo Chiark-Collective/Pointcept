{
 "cells": [
  {
   "cell_type": "code",
   "execution_count": 20,
   "id": "9d2f3f90-5c5c-4d6b-84e5-a90a4f9583f8",
   "metadata": {},
   "outputs": [],
   "source": [
    "import clip\n",
    "import torch.nn as nn"
   ]
  },
  {
   "cell_type": "code",
   "execution_count": 27,
   "id": "e44341b1-0aa8-4a92-a998-87d5fd3832f4",
   "metadata": {},
   "outputs": [],
   "source": [
    "dataset_labels={\n",
    "    'Structured3D': ['wall', 'floor', 'cabinet', 'bed', 'chair', 'sofa', 'table', 'door', 'window', 'bookshelf', 'picture', 'counter', 'desk', 'shelves', 'curtain', 'dresser', 'pillow', 'mirror', 'ceiling', 'refrigerator', 'television', 'nightstand', 'sink', 'lamp', 'otherstructure', 'otherfurniture', 'otherprop'],\n",
    "    'ScanNet': ['wall', 'floor', 'cabinet', 'bed', 'chair', 'sofa', 'table', 'door', 'window', 'bookshelf', 'picture', 'counter', 'desk', 'curtain', 'refrigerator', 'shower curtain', 'toilet', 'sink', 'bathtub', 'otherfurniture'],\n",
    "    'S3DIS': ['wall', 'floor', 'chair', 'sofa', 'table', 'door', 'window', 'bookcase', 'ceiling', 'board', 'beam', 'column', 'clutter']\n",
    "}\n",
    "\n",
    "class_name=(\n",
    "            \"wall\", \"floor\", \"cabinet\", \"bed\", \"chair\", \"sofa\", \"table\", \"door\",\n",
    "            \"window\", \"bookshelf\", \"bookcase\", \"picture\", \"counter\", \"desk\", \"shelves\", \"curtain\",\n",
    "            \"dresser\", \"pillow\", \"mirror\", \"ceiling\", \"refrigerator\", \"television\", \"shower curtain\", \"nightstand\",\n",
    "            \"toilet\", \"sink\", \"lamp\", \"bathtub\", \"garbagebin\", \"board\", \"beam\", \"column\",\n",
    "            \"clutter\", \"otherstructure\", \"otherfurniture\", \"otherprop\",\n",
    "        )\n",
    "template = '[x]'\n",
    "clip_model = \"ViT-B/16\"\n",
    "backbone_out_channels = 96"
   ]
  },
  {
   "cell_type": "code",
   "execution_count": 38,
   "id": "47a097b5-2636-4000-8908-54d5cba12615",
   "metadata": {},
   "outputs": [
    {
     "name": "stdout",
     "output_type": "stream",
     "text": [
      "['wall', 'floor', 'cabinet', 'bed', 'chair', 'sofa', 'table', 'door', 'window', 'bookshelf', 'bookcase', 'picture', 'counter', 'desk', 'shelves', 'curtain', 'dresser', 'pillow', 'mirror', 'ceiling', 'refrigerator', 'television', 'shower curtain', 'nightstand', 'toilet', 'sink', 'lamp', 'bathtub', 'garbagebin', 'board', 'beam', 'column', 'clutter', 'otherstructure', 'otherfurniture', 'otherprop']\n",
      "36\n",
      "tensor([[49406,  2569, 49407,  ...,     0,     0,     0],\n",
      "        [49406,  4125, 49407,  ...,     0,     0,     0],\n",
      "        [49406,  9937, 49407,  ...,     0,     0,     0],\n",
      "        ...,\n",
      "        [49406,  9758,  5285,  ...,     0,     0,     0],\n",
      "        [49406,  9758,  7993,  ...,     0,     0,     0],\n",
      "        [49406,  9758, 16254,  ...,     0,     0,     0]], dtype=torch.int32)\n",
      "torch.Size([36, 77])\n"
     ]
    }
   ],
   "source": [
    "class_prompt = [template.replace(\"[x]\", name) for name in class_name]\n",
    "print(class_prompt)\n",
    "print(len(class_prompt))\n",
    "class_token = clip.tokenize(class_prompt)\n",
    "print(class_token)\n",
    "print(class_token.shape)"
   ]
  },
  {
   "cell_type": "code",
   "execution_count": 45,
   "id": "4d541bee-743a-4e64-8100-0f3bcec3feff",
   "metadata": {},
   "outputs": [
    {
     "data": {
      "text/plain": [
       "28"
      ]
     },
     "execution_count": 45,
     "metadata": {},
     "output_type": "execute_result"
    }
   ],
   "source": [
    "all_classes = list(set(cls for classes in dataset_labels.values() for cls in classes))\n",
    "all_classes\n",
    "class_name.index('garbagebin')"
   ]
  },
  {
   "cell_type": "code",
   "execution_count": 31,
   "id": "29001cfe-ffc5-47fc-90bd-62f4df684794",
   "metadata": {},
   "outputs": [
    {
     "data": {
      "text/plain": [
       "512"
      ]
     },
     "execution_count": 31,
     "metadata": {},
     "output_type": "execute_result"
    }
   ],
   "source": [
    "cm, _ = clip.load(clip_model, device=\"cpu\", download_root=\"../.cache/clip\")\n",
    "cm.requires_grad_(False)\n",
    "cm.text_projection.shape[1]"
   ]
  },
  {
   "cell_type": "code",
   "execution_count": 29,
   "id": "7ac01822-f358-44ad-a0b6-affe344db624",
   "metadata": {},
   "outputs": [],
   "source": [
    "proj_head = nn.Linear(\n",
    "    backbone_out_channels, cm.text_projection.shape[1]\n",
    ")"
   ]
  },
  {
   "cell_type": "code",
   "execution_count": 30,
   "id": "34117b48-7531-45f9-a83c-4cbeee6d3851",
   "metadata": {},
   "outputs": [
    {
     "data": {
      "text/plain": [
       "Linear(in_features=96, out_features=512, bias=True)"
      ]
     },
     "execution_count": 30,
     "metadata": {},
     "output_type": "execute_result"
    }
   ],
   "source": [
    "proj_head"
   ]
  },
  {
   "cell_type": "code",
   "execution_count": 40,
   "id": "fd5d35a9-edbf-4caa-b2f4-46844dcd59d7",
   "metadata": {},
   "outputs": [
    {
     "data": {
      "text/plain": [
       "True"
      ]
     },
     "execution_count": 40,
     "metadata": {},
     "output_type": "execute_result"
    }
   ],
   "source": [
    "isinstance(cm, nn.Module)"
   ]
  },
  {
   "cell_type": "code",
   "execution_count": 46,
   "id": "d62f34ab-fd27-4670-be3f-b82b7ab407e3",
   "metadata": {},
   "outputs": [],
   "source": [
    "from collections import OrderedDict"
   ]
  },
  {
   "cell_type": "code",
   "execution_count": 47,
   "id": "989532ca-9f51-41b5-b759-50b6507b4764",
   "metadata": {},
   "outputs": [],
   "source": [
    "d = OrderedDict()"
   ]
  },
  {
   "cell_type": "code",
   "execution_count": 48,
   "id": "b738b714-70d0-4a0e-b89f-5ccf764ec06d",
   "metadata": {},
   "outputs": [
    {
     "data": {
      "text/plain": [
       "OrderedDict()"
      ]
     },
     "execution_count": 48,
     "metadata": {},
     "output_type": "execute_result"
    }
   ],
   "source": [
    "d"
   ]
  },
  {
   "cell_type": "code",
   "execution_count": 49,
   "id": "cd7f1a60-5de9-48c4-b9a1-9ea684e34968",
   "metadata": {},
   "outputs": [],
   "source": [
    "d['a'] = 1\n",
    "d['b'] = 2"
   ]
  },
  {
   "cell_type": "code",
   "execution_count": 50,
   "id": "16e05819-68cd-4e18-ae48-809cf48c33d1",
   "metadata": {},
   "outputs": [
    {
     "data": {
      "text/plain": [
       "OrderedDict([('a', 1), ('b', 2)])"
      ]
     },
     "execution_count": 50,
     "metadata": {},
     "output_type": "execute_result"
    }
   ],
   "source": [
    "d"
   ]
  },
  {
   "cell_type": "code",
   "execution_count": 53,
   "id": "251f1f85-91b0-4adb-8ef9-3c03079f22ff",
   "metadata": {},
   "outputs": [
    {
     "data": {
      "text/plain": [
       "['a', 'b']"
      ]
     },
     "execution_count": 53,
     "metadata": {},
     "output_type": "execute_result"
    }
   ],
   "source": [
    "list(d.keys())"
   ]
  },
  {
   "cell_type": "code",
   "execution_count": 54,
   "id": "2bc7a5fe-7f81-4aa2-9f55-d2dfc49a87e7",
   "metadata": {},
   "outputs": [
    {
     "data": {
      "text/plain": [
       "OrderedDict([('a', 1), ('b', 2)])"
      ]
     },
     "execution_count": 54,
     "metadata": {},
     "output_type": "execute_result"
    }
   ],
   "source": [
    "OrderedDict(a=1, b=2)"
   ]
  },
  {
   "cell_type": "code",
   "execution_count": null,
   "id": "94fe3ba3-7dbf-44c3-affe-88188eee5463",
   "metadata": {},
   "outputs": [],
   "source": []
  }
 ],
 "metadata": {
  "kernelspec": {
   "display_name": "Pointcept development",
   "language": "python",
   "name": "pointcept"
  },
  "language_info": {
   "codemirror_mode": {
    "name": "ipython",
    "version": 3
   },
   "file_extension": ".py",
   "mimetype": "text/x-python",
   "name": "python",
   "nbconvert_exporter": "python",
   "pygments_lexer": "ipython3",
   "version": "3.11.9"
  }
 },
 "nbformat": 4,
 "nbformat_minor": 5
}
