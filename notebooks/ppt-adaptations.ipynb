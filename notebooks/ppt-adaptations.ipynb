{
 "cells": [
  {
   "cell_type": "code",
   "execution_count": 20,
   "id": "9d2f3f90-5c5c-4d6b-84e5-a90a4f9583f8",
   "metadata": {},
   "outputs": [],
   "source": [
    "import clip\n",
    "import torch.nn as nn"
   ]
  },
  {
   "cell_type": "code",
   "execution_count": 27,
   "id": "e44341b1-0aa8-4a92-a998-87d5fd3832f4",
   "metadata": {},
   "outputs": [],
   "source": [
    "dataset_labels={\n",
    "    'Structured3D': ['wall', 'floor', 'cabinet', 'bed', 'chair', 'sofa', 'table', 'door', 'window', 'bookshelf', 'picture', 'counter', 'desk', 'shelves', 'curtain', 'dresser', 'pillow', 'mirror', 'ceiling', 'refrigerator', 'television', 'nightstand', 'sink', 'lamp', 'otherstructure', 'otherfurniture', 'otherprop'],\n",
    "    'ScanNet': ['wall', 'floor', 'cabinet', 'bed', 'chair', 'sofa', 'table', 'door', 'window', 'bookshelf', 'picture', 'counter', 'desk', 'curtain', 'refrigerator', 'shower curtain', 'toilet', 'sink', 'bathtub', 'otherfurniture'],\n",
    "    'S3DIS': ['wall', 'floor', 'chair', 'sofa', 'table', 'door', 'window', 'bookcase', 'ceiling', 'board', 'beam', 'column', 'clutter']\n",
    "}\n",
    "\n",
    "class_name=(\n",
    "            \"wall\", \"floor\", \"cabinet\", \"bed\", \"chair\", \"sofa\", \"table\", \"door\",\n",
    "            \"window\", \"bookshelf\", \"bookcase\", \"picture\", \"counter\", \"desk\", \"shelves\", \"curtain\",\n",
    "            \"dresser\", \"pillow\", \"mirror\", \"ceiling\", \"refrigerator\", \"television\", \"shower curtain\", \"nightstand\",\n",
    "            \"toilet\", \"sink\", \"lamp\", \"bathtub\", \"garbagebin\", \"board\", \"beam\", \"column\",\n",
    "            \"clutter\", \"otherstructure\", \"otherfurniture\", \"otherprop\",\n",
    "        )\n",
    "template = '[x]'\n",
    "clip_model = \"ViT-B/16\"\n",
    "backbone_out_channels = 96"
   ]
  },
  {
   "cell_type": "code",
   "execution_count": 38,
   "id": "47a097b5-2636-4000-8908-54d5cba12615",
   "metadata": {},
   "outputs": [
    {
     "name": "stdout",
     "output_type": "stream",
     "text": [
      "['wall', 'floor', 'cabinet', 'bed', 'chair', 'sofa', 'table', 'door', 'window', 'bookshelf', 'bookcase', 'picture', 'counter', 'desk', 'shelves', 'curtain', 'dresser', 'pillow', 'mirror', 'ceiling', 'refrigerator', 'television', 'shower curtain', 'nightstand', 'toilet', 'sink', 'lamp', 'bathtub', 'garbagebin', 'board', 'beam', 'column', 'clutter', 'otherstructure', 'otherfurniture', 'otherprop']\n",
      "36\n",
      "tensor([[49406,  2569, 49407,  ...,     0,     0,     0],\n",
      "        [49406,  4125, 49407,  ...,     0,     0,     0],\n",
      "        [49406,  9937, 49407,  ...,     0,     0,     0],\n",
      "        ...,\n",
      "        [49406,  9758,  5285,  ...,     0,     0,     0],\n",
      "        [49406,  9758,  7993,  ...,     0,     0,     0],\n",
      "        [49406,  9758, 16254,  ...,     0,     0,     0]], dtype=torch.int32)\n",
      "torch.Size([36, 77])\n"
     ]
    }
   ],
   "source": [
    "class_prompt = [template.replace(\"[x]\", name) for name in class_name]\n",
    "print(class_prompt)\n",
    "print(len(class_prompt))\n",
    "class_token = clip.tokenize(class_prompt)\n",
    "print(class_token)\n",
    "print(class_token.shape)"
   ]
  },
  {
   "cell_type": "code",
   "execution_count": 44,
   "id": "4d541bee-743a-4e64-8100-0f3bcec3feff",
   "metadata": {},
   "outputs": [
    {
     "ename": "ValueError",
     "evalue": "'garbagebin' is not in list",
     "output_type": "error",
     "traceback": [
      "\u001b[0;31m---------------------------------------------------------------------------\u001b[0m",
      "\u001b[0;31mValueError\u001b[0m                                Traceback (most recent call last)",
      "Cell \u001b[0;32mIn[44], line 3\u001b[0m\n\u001b[1;32m      1\u001b[0m all_classes \u001b[38;5;241m=\u001b[39m \u001b[38;5;28mlist\u001b[39m(\u001b[38;5;28mset\u001b[39m(\u001b[38;5;28mcls\u001b[39m \u001b[38;5;28;01mfor\u001b[39;00m classes \u001b[38;5;129;01min\u001b[39;00m dataset_labels\u001b[38;5;241m.\u001b[39mvalues() \u001b[38;5;28;01mfor\u001b[39;00m \u001b[38;5;28mcls\u001b[39m \u001b[38;5;129;01min\u001b[39;00m classes))\n\u001b[1;32m      2\u001b[0m all_classes\n\u001b[0;32m----> 3\u001b[0m \u001b[43mall_classes\u001b[49m\u001b[38;5;241;43m.\u001b[39;49m\u001b[43mindex\u001b[49m\u001b[43m(\u001b[49m\u001b[38;5;124;43m'\u001b[39;49m\u001b[38;5;124;43mgarbagebin\u001b[39;49m\u001b[38;5;124;43m'\u001b[39;49m\u001b[43m)\u001b[49m\n",
      "\u001b[0;31mValueError\u001b[0m: 'garbagebin' is not in list"
     ]
    }
   ],
   "source": [
    "all_classes = list(set(cls for classes in dataset_labels.values() for cls in classes))\n",
    "all_classes\n",
    "all_classes.index('garbagebin')"
   ]
  },
  {
   "cell_type": "code",
   "execution_count": 31,
   "id": "29001cfe-ffc5-47fc-90bd-62f4df684794",
   "metadata": {},
   "outputs": [
    {
     "data": {
      "text/plain": [
       "512"
      ]
     },
     "execution_count": 31,
     "metadata": {},
     "output_type": "execute_result"
    }
   ],
   "source": [
    "cm, _ = clip.load(clip_model, device=\"cpu\", download_root=\"../.cache/clip\")\n",
    "cm.requires_grad_(False)\n",
    "cm.text_projection.shape[1]"
   ]
  },
  {
   "cell_type": "code",
   "execution_count": 29,
   "id": "7ac01822-f358-44ad-a0b6-affe344db624",
   "metadata": {},
   "outputs": [],
   "source": [
    "proj_head = nn.Linear(\n",
    "    backbone_out_channels, cm.text_projection.shape[1]\n",
    ")"
   ]
  },
  {
   "cell_type": "code",
   "execution_count": 30,
   "id": "34117b48-7531-45f9-a83c-4cbeee6d3851",
   "metadata": {},
   "outputs": [
    {
     "data": {
      "text/plain": [
       "Linear(in_features=96, out_features=512, bias=True)"
      ]
     },
     "execution_count": 30,
     "metadata": {},
     "output_type": "execute_result"
    }
   ],
   "source": [
    "proj_head"
   ]
  },
  {
   "cell_type": "code",
   "execution_count": 40,
   "id": "fd5d35a9-edbf-4caa-b2f4-46844dcd59d7",
   "metadata": {},
   "outputs": [
    {
     "data": {
      "text/plain": [
       "True"
      ]
     },
     "execution_count": 40,
     "metadata": {},
     "output_type": "execute_result"
    }
   ],
   "source": [
    "isinstance(cm, nn.Module)"
   ]
  },
  {
   "cell_type": "code",
   "execution_count": 41,
   "id": "d62f34ab-fd27-4670-be3f-b82b7ab407e3",
   "metadata": {},
   "outputs": [
    {
     "ename": "NameError",
     "evalue": "name 'torch' is not defined",
     "output_type": "error",
     "traceback": [
      "\u001b[0;31m---------------------------------------------------------------------------\u001b[0m",
      "\u001b[0;31mNameError\u001b[0m                                 Traceback (most recent call last)",
      "Cell \u001b[0;32mIn[41], line 1\u001b[0m\n\u001b[0;32m----> 1\u001b[0m \u001b[38;5;28misinstance\u001b[39m(proj_head, \u001b[43mtorch\u001b[49m\u001b[38;5;241m.\u001b[39mParameter)\n",
      "\u001b[0;31mNameError\u001b[0m: name 'torch' is not defined"
     ]
    }
   ],
   "source": [
    "isinstance(proj_head, torch.Parameter)"
   ]
  }
 ],
 "metadata": {
  "kernelspec": {
   "display_name": "Pointcept development",
   "language": "python",
   "name": "pointcept"
  },
  "language_info": {
   "codemirror_mode": {
    "name": "ipython",
    "version": 3
   },
   "file_extension": ".py",
   "mimetype": "text/x-python",
   "name": "python",
   "nbconvert_exporter": "python",
   "pygments_lexer": "ipython3",
   "version": "3.11.9"
  }
 },
 "nbformat": 4,
 "nbformat_minor": 5
}
