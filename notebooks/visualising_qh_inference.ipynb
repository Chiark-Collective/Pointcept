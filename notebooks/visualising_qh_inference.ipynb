{
 "cells": [
  {
   "cell_type": "markdown",
   "id": "c1a1200a-1211-4740-adf1-87f58d5bf77d",
   "metadata": {},
   "source": [
    "# Visualising QH inference tests\n",
    "\n",
    "Now we have a basic inference run on the QH dataset split up into 3x3x3 voxels, we can put together a pipeline template for creating a .pcd file to visualise everything in CloudCompare.\n",
    "\n",
    "Let's first combine one of the voxel .pth files with the inference .npy files and produce a .pcd file with that."
   ]
  },
  {
   "cell_type": "code",
   "execution_count": 14,
   "id": "f1710686-3a8b-4a9f-9ce2-ab5b6768ec10",
   "metadata": {},
   "outputs": [],
   "source": [
    "import torch\n",
    "import numpy as np\n",
    "from pyntcloud import PyntCloud\n",
    "import pandas as pd\n",
    "\n",
    "def create_pcd_from_data(pth_file_path, npy_file_path, output_pcd_path):\n",
    "    # Load data from the .pth file using torch\n",
    "    data = torch.load(pth_file_path)\n",
    "\n",
    "    # Load the category data from the .npy file\n",
    "    categories = np.load(npy_file_path)\n",
    "\n",
    "    # Convert PyTorch tensors to numpy arrays\n",
    "    coords = data['coord']#.numpy() if isinstance(data['coord'], torch.Tensor) else data['coord']\n",
    "    colors = data['color'] #.numpy() if 'color' in data and isinstance(data['color'], torch.Tensor) else None\n",
    "    normals = data['normal']#.numpy() if 'normal' in data and isinstance(data['normal'], torch.Tensor) else None\n",
    "    print(coords)\n",
    "    print(categories)---------------------------------------------------------------------------\n",
    "ValueError                                Traceback (most recent call last)\n",
    "Cell In[7], line 6\n",
    "      3 npy_file_path = '/home/sogilvy/Pointcept/exp/test/semseg-pt-v3m1-1-ppt-extreme/result/voxel_1_1_1_pred.npy'\n",
    "      4 output_pcd_path = '/data/sdd/test.pcd'\n",
    "----> 6 create_pcd_from_data(pth_file_path, npy_file_path, output_pcd_path)\n",
    "\n",
    "Cell In[6], line 40, in create_pcd_from_data(pth_file_path, npy_file_path, output_pcd_path)\n",
    "     37 cloud = PyntCloud(pd.DataFrame(points_dict))\n",
    "     39 # Save as PCD\n",
    "---> 40 cloud.to_file(output_pcd_path, as_text=True)\n",
    "\n",
    "File ~/.cache/pypoetry/virtualenvs/pointcept-1jndxwDi-py3.11/lib/python3.11/site-packages/pyntcloud/core_class.py:174, in PyntCloud.to_file(self, filename, also_save, **kwargs)\n",
    "    172 ext = filename.split(\".\")[-1].upper()\n",
    "    173 if ext not in TO_FILE:\n",
    "--> 174     raise ValueError(\n",
    "    175         \"Unsupported file format; supported formats are: {}\".format(list(TO_FILE)))\n",
    "    176 kwargs[\"filename\"] = filename\n",
    "    177 kwargs[\"points\"] = self.points\n",
    "\n",
    "ValueError: Unsupported file format; supported formats are: ['ASC', 'BIN', 'CSV', 'NPZ', 'OBJ', 'PLY', 'PTS', 'TXT', 'XYZ']\n",
    "    # Prepare data for PyntCloud\n",
    "    points_dict = {\n",
    "        'x': coords[:, 0],\n",
    "        'y': coords[:, 1],\n",
    "        'z': coords[:, 2],\n",
    "        'category': categories\n",
    "    }\n",
    "    \n",
    "    if colors is not None:\n",
    "        points_dict['red'] = colors[:, 0].astype(np.uint8)\n",
    "        points_dict['green'] = colors[:, 1].astype(np.uint8)\n",
    "        points_dict['blue'] = colors[:, 2].astype(np.uint8)\n",
    "\n",
    "    if normals is not None:\n",
    "        points_dict['nx'] = normals[:, 0]\n",
    "        points_dict['ny'] = normals[:, 1]\n",
    "        points_dict['nz'] = normals[:, 2]\n",
    "\n",
    "    # Convert dictionary to DataFrame and create PyntCloud object\n",
    "    cloud = PyntCloud(pd.DataFrame(points_dict))\n",
    "\n",
    "    # Save as PCD\n",
    "    cloud.to_file(output_pcd_path)"
   ]
  },
  {
   "cell_type": "code",
   "execution_count": 15,
   "id": "6576837d-7b9f-4bcf-9cef-16aad87ac224",
   "metadata": {},
   "outputs": [
    {
     "name": "stdout",
     "output_type": "stream",
     "text": [
      "[[19.748 22.983  9.988]\n",
      " [19.747 22.981 10.025]\n",
      " [19.747 22.978 10.073]\n",
      " ...\n",
      " [19.926 38.092 14.728]\n",
      " [19.975 38.091 14.728]\n",
      " [20.025 38.09  14.727]]\n",
      "[0 0 0 ... 0 0 0]\n"
     ]
    },
    {
     "ename": "ValueError",
     "evalue": "Unsupported file format; supported formats are: ['ASC', 'BIN', 'CSV', 'NPZ', 'OBJ', 'PLY', 'PTS', 'TXT', 'XYZ']",
     "output_type": "error",
     "traceback": [
      "\u001b[0;31m---------------------------------------------------------------------------\u001b[0m",
      "\u001b[0;31mValueError\u001b[0m                                Traceback (most recent call last)",
      "Cell \u001b[0;32mIn[15], line 6\u001b[0m\n\u001b[1;32m      3\u001b[0m npy_file_path \u001b[38;5;241m=\u001b[39m \u001b[38;5;124m'\u001b[39m\u001b[38;5;124m/home/sogilvy/Pointcept/exp/test/semseg-pt-v3m1-1-ppt-extreme/result/voxel_1_1_1_pred.npy\u001b[39m\u001b[38;5;124m'\u001b[39m\n\u001b[1;32m      4\u001b[0m output_pcd_path \u001b[38;5;241m=\u001b[39m \u001b[38;5;124m'\u001b[39m\u001b[38;5;124m/data/sdd/test.pcd\u001b[39m\u001b[38;5;124m'\u001b[39m\n\u001b[0;32m----> 6\u001b[0m \u001b[43mcreate_pcd_from_data\u001b[49m\u001b[43m(\u001b[49m\u001b[43mpth_file_path\u001b[49m\u001b[43m,\u001b[49m\u001b[43m \u001b[49m\u001b[43mnpy_file_path\u001b[49m\u001b[43m,\u001b[49m\u001b[43m \u001b[49m\u001b[43moutput_pcd_path\u001b[49m\u001b[43m)\u001b[49m\n",
      "Cell \u001b[0;32mIn[14], line 41\u001b[0m, in \u001b[0;36mcreate_pcd_from_data\u001b[0;34m(pth_file_path, npy_file_path, output_pcd_path)\u001b[0m\n\u001b[1;32m     38\u001b[0m cloud \u001b[38;5;241m=\u001b[39m PyntCloud(pd\u001b[38;5;241m.\u001b[39mDataFrame(points_dict))\n\u001b[1;32m     40\u001b[0m \u001b[38;5;66;03m# Save as PCD\u001b[39;00m\n\u001b[0;32m---> 41\u001b[0m \u001b[43mcloud\u001b[49m\u001b[38;5;241;43m.\u001b[39;49m\u001b[43mto_file\u001b[49m\u001b[43m(\u001b[49m\u001b[43moutput_pcd_path\u001b[49m\u001b[43m)\u001b[49m\n",
      "File \u001b[0;32m~/.cache/pypoetry/virtualenvs/pointcept-1jndxwDi-py3.11/lib/python3.11/site-packages/pyntcloud/core_class.py:174\u001b[0m, in \u001b[0;36mPyntCloud.to_file\u001b[0;34m(self, filename, also_save, **kwargs)\u001b[0m\n\u001b[1;32m    172\u001b[0m ext \u001b[38;5;241m=\u001b[39m filename\u001b[38;5;241m.\u001b[39msplit(\u001b[38;5;124m\"\u001b[39m\u001b[38;5;124m.\u001b[39m\u001b[38;5;124m\"\u001b[39m)[\u001b[38;5;241m-\u001b[39m\u001b[38;5;241m1\u001b[39m]\u001b[38;5;241m.\u001b[39mupper()\n\u001b[1;32m    173\u001b[0m \u001b[38;5;28;01mif\u001b[39;00m ext \u001b[38;5;129;01mnot\u001b[39;00m \u001b[38;5;129;01min\u001b[39;00m TO_FILE:\n\u001b[0;32m--> 174\u001b[0m     \u001b[38;5;28;01mraise\u001b[39;00m \u001b[38;5;167;01mValueError\u001b[39;00m(\n\u001b[1;32m    175\u001b[0m         \u001b[38;5;124m\"\u001b[39m\u001b[38;5;124mUnsupported file format; supported formats are: \u001b[39m\u001b[38;5;132;01m{}\u001b[39;00m\u001b[38;5;124m\"\u001b[39m\u001b[38;5;241m.\u001b[39mformat(\u001b[38;5;28mlist\u001b[39m(TO_FILE)))\n\u001b[1;32m    176\u001b[0m kwargs[\u001b[38;5;124m\"\u001b[39m\u001b[38;5;124mfilename\u001b[39m\u001b[38;5;124m\"\u001b[39m] \u001b[38;5;241m=\u001b[39m filename\n\u001b[1;32m    177\u001b[0m kwargs[\u001b[38;5;124m\"\u001b[39m\u001b[38;5;124mpoints\u001b[39m\u001b[38;5;124m\"\u001b[39m] \u001b[38;5;241m=\u001b[39m \u001b[38;5;28mself\u001b[39m\u001b[38;5;241m.\u001b[39mpoints\n",
      "\u001b[0;31mValueError\u001b[0m: Unsupported file format; supported formats are: ['ASC', 'BIN', 'CSV', 'NPZ', 'OBJ', 'PLY', 'PTS', 'TXT', 'XYZ']"
     ]
    }
   ],
   "source": [
    "# Example usage\n",
    "pth_file_path = '/home/sogilvy/Pointcept/data/qh/val/voxel_1_1_1.pth'\n",
    "npy_file_path = '/home/sogilvy/Pointcept/exp/test/semseg-pt-v3m1-1-ppt-extreme/result/voxel_1_1_1_pred.npy'\n",
    "output_pcd_path = '/data/sdd/test.pcd'\n",
    "\n",
    "create_pcd_from_data(pth_file_path, npy_file_path, output_pcd_path)"
   ]
  },
  {
   "cell_type": "code",
   "execution_count": null,
   "id": "126f6d89-848c-4a00-a162-e9b711ac6c1e",
   "metadata": {},
   "outputs": [],
   "source": []
  }
 ],
 "metadata": {
  "kernelspec": {
   "display_name": "Python (Pointcept)",
   "language": "python",
   "name": "pointcept"
  },
  "language_info": {
   "codemirror_mode": {
    "name": "ipython",
    "version": 3
   },
   "file_extension": ".py",
   "mimetype": "text/x-python",
   "name": "python",
   "nbconvert_exporter": "python",
   "pygments_lexer": "ipython3",
   "version": "3.11.9"
  }
 },
 "nbformat": 4,
 "nbformat_minor": 5
}
